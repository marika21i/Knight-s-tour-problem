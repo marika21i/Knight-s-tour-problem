{
 "cells": [
  {
   "cell_type": "markdown",
   "id": "a28d1cc1",
   "metadata": {},
   "source": [
    "## Knight's Tour problem - Bargetto, Iavarone"
   ]
  },
  {
   "cell_type": "markdown",
   "id": "7beabe0c",
   "metadata": {},
   "source": [
    "## introduzione: spiegazione del gioco, storia, abstract di come risolviamo gli algoritmi. \n",
    "\n",
    "The problem is to find a sequence of moves of the knight on the chessboard such that the knight visits every square on the board exactly once. We decide to implement only algorithms that solve the problem with open tours, the knight does not end on the same cell it starts. "
   ]
  },
  {
   "cell_type": "markdown",
   "id": "5d07be54",
   "metadata": {},
   "source": [
    "## Warnsdroff's solution 1"
   ]
  },
  {
   "cell_type": "markdown",
   "id": "260779d3",
   "metadata": {},
   "source": [
    "###   _ _ init _ _ method\n",
    "\n",
    "The initializer just creates n lists of size n which represent our chessboard. It has only one attribute **n** which is the size of the squared board, so we can solve our problem in different cases. This representation stores the step numbers from 1 to n^2 on the squares of the chessboard which correspond to the order of knight's moves. If one cell has the value n^2 it means that the knight has covered all the sqaures and the problem is solved. So, we decide to set all the initial elements of the lists as zeros in order to keep track of the moves.\n",
    "The attribute **self.n** and the initialization of the board as empty list are constant. The append operation is constant too and we call it: n^2 times to append zeros in lists (twice a for loop) and n times to append lists to create the board (the first for loop). Hence the total cost is c_1 + n^2c_2 + nc_3, which means **O(n^2)**.\n",
    "\n"
   ]
  },
  {
   "cell_type": "markdown",
   "id": "7d0581b6",
   "metadata": {},
   "source": [
    "### _ _ str _ _  method\n",
    "\n",
    "One may want to print the chessboard. The easiest way is to represent it as n orizontal strings of n elements which are the squares. So each printed line created with **join** has a length proportional to n and the cost is **O(n)**."
   ]
  },
  {
   "cell_type": "markdown",
   "id": "02202367",
   "metadata": {},
   "source": [
    "### find_free_pos method\n",
    "\n",
    "We use this method to determine a list of free positions on the board in which a knight could go in one step, given the current position. The cost is:\n",
    "- constant for the initialization of the list **free_pos**\n",
    "- constant for the for loop, since it does not depend on the size of the board but only on the maximum number 8 of differnt moves which a knight can take from a square; for example given the square **(x,y)** the knight can go into the cells **(x+2,y+1),(x+1,y+2),(x-2,y+1),(x-1,y+2),(x-1,y-2),(x-2,y-1),(x+1,y-2),(x+2,y-1)**\n"
   ]
  },
  {
   "cell_type": "markdown",
   "id": "94d1d311",
   "metadata": {},
   "source": [
    "### find_next_pos method \n",
    "\n",
    "We want to choose the square from which the knight has the fewest available moves. Indeed, visiting the squares with the fewest available moves first pushes the knight to visit the squares around the edges of the board first. This ensures that the knight will visit the hard-to- reach corners early and can use the middle squares to hop across the board only when necessary. Utilizing this kind of knowledge to speed up an algorithm is called a heuristic, in particular this is called Warnsdorff’s heuristic. \n",
    "\n"
   ]
  },
  {
   "cell_type": "code",
   "execution_count": 8,
   "id": "d29bdbf9",
   "metadata": {},
   "outputs": [],
   "source": [
    "legal_move_x = [2, 1, -1, -2, -2, -1, 1, 2]\n",
    "legal_move_y = [1, 2, 2, 1, -1, -2, -2, -1]\n",
    "\n",
    "class Knight_Tour1:\n",
    "    \n",
    "    def __init__(self, n):\n",
    "        self.n = n      # board size\n",
    "        self.board = []\n",
    "        for i in range(0,n):\n",
    "            s = []\n",
    "            for j in range(0,n):\n",
    "                s.append(0)\n",
    "            self.board.append(s) \n",
    "    \n",
    "    def __str__(self):\n",
    "        print(\"Chessboard:\")\n",
    "        kt = []\n",
    "        for i in range(0,self.n):\n",
    "            row = self.board[i]\n",
    "            kt.append(\"\"+str(row)+\"\\n\")\n",
    "        return \"\".join(kt)\n",
    "    \n",
    "    #####################################\n",
    "    \n",
    "    def find_free_pos(self, current_pos):\n",
    "        free_pos = []\n",
    "        for i in range (0, 8):\n",
    "            row = current_pos[0] + legal_move_x[i]\n",
    "            col = current_pos[1] + legal_move_y[i]\n",
    "            if 0 < row <= self.n and 0 < col <= self.n and self.board[row-1][col-1] == 0:\n",
    "                free_pos.append((row,col))\n",
    "        return free_pos\n",
    " \n",
    "\n",
    "    def find_next_pos(self, current_pos):\n",
    "        free_pos = self.find_free_pos(current_pos) \n",
    "        if len(free_pos) == 0:\n",
    "            return \n",
    "        else: \n",
    "            possible_moves = 8\n",
    "            next_pos = ()\n",
    "            for pos in free_pos:\n",
    "                next_free_pos = self.find_free_pos(pos) \n",
    "                if 0 < len(next_free_pos) <= possible_moves:\n",
    "                    possible_moves = len(next_free_pos)\n",
    "                    next_pos = pos\n",
    "                elif len(next_free_pos) == 0:\n",
    "                    next_pos = pos\n",
    "            return next_pos\n",
    "    \n",
    "    \n",
    "    def warnsdroff_solution(self, start_pos):\n",
    "        count = 1 \n",
    "        row = start_pos[0]\n",
    "        col = start_pos[1]\n",
    "        self.board[row-1][col-1] = count\n",
    "        \n",
    "        while count <= self.n*self.n:\n",
    "            count += 1\n",
    "            next_pos = self.find_next_pos((row,col))\n",
    "            if next_pos:\n",
    "                row = next_pos[0]\n",
    "                col = next_pos[1]\n",
    "                self.board[row-1][col-1] = count\n",
    "            else:        \n",
    "                return print(self)\n",
    "            \n",
    "    "
   ]
  },
  {
   "cell_type": "code",
   "execution_count": 18,
   "id": "7d0ad65a",
   "metadata": {},
   "outputs": [],
   "source": [
    "tour1 = Knight_Tour1(8)"
   ]
  },
  {
   "cell_type": "code",
   "execution_count": 19,
   "id": "289b31d2",
   "metadata": {},
   "outputs": [
    {
     "name": "stdout",
     "output_type": "stream",
     "text": [
      "Chessboard:\n",
      "[0, 0, 0, 0, 0, 0, 0, 0]\n",
      "[0, 0, 0, 0, 0, 0, 0, 0]\n",
      "[0, 0, 0, 0, 0, 0, 0, 0]\n",
      "[0, 0, 0, 0, 0, 0, 0, 0]\n",
      "[0, 0, 0, 0, 0, 0, 0, 0]\n",
      "[0, 0, 0, 0, 0, 0, 0, 0]\n",
      "[0, 0, 0, 0, 0, 0, 0, 0]\n",
      "[0, 0, 0, 0, 0, 0, 0, 0]\n",
      "\n"
     ]
    }
   ],
   "source": [
    "print(tour1)"
   ]
  },
  {
   "cell_type": "code",
   "execution_count": 20,
   "id": "1e740cca",
   "metadata": {
    "scrolled": false
   },
   "outputs": [
    {
     "name": "stdout",
     "output_type": "stream",
     "text": [
      "Chessboard:\n",
      "[1, 4, 23, 20, 57, 6, 51, 44]\n",
      "[22, 19, 2, 5, 50, 43, 58, 7]\n",
      "[3, 24, 21, 56, 27, 60, 45, 52]\n",
      "[18, 29, 26, 49, 42, 55, 8, 59]\n",
      "[25, 14, 35, 28, 61, 48, 53, 46]\n",
      "[30, 17, 32, 41, 54, 39, 62, 9]\n",
      "[13, 34, 15, 36, 11, 64, 47, 38]\n",
      "[16, 31, 12, 33, 40, 37, 10, 63]\n",
      "\n"
     ]
    }
   ],
   "source": [
    "tour1.warnsdroff_solution((1,1))"
   ]
  },
  {
   "cell_type": "markdown",
   "id": "c8e044a8",
   "metadata": {},
   "source": [
    "#### Warnsdroff's solution 2: implementation with Graphs "
   ]
  },
  {
   "cell_type": "markdown",
   "id": "20f8094e",
   "metadata": {},
   "source": [
    "It is possible to try a similar solution to the previous one representing the chessboard as a graph. \n",
    "We used the following idea: \n",
    "- each square of the board, the tuple of coordinates (x,y), can be represented as a vertex in the graph\n",
    "- two vertices are connected by an edge if and only if there exists a legal move of the knight from one to the other.\n",
    "\n",
    "To do so, we used the implementation **AdjSetGraphU** developed in class. \n",
    "Also, we decide it was necessary also to import networkx as nx for graphical representation of our idea, the vertices are showen as yellow points linked with their possible next moves. \n",
    "\n",
    "In the KnightTourGraph class we have created the method adjacent_pos, in order to determine the sets of possible next positions of a vertex taken as input. In this solution we have used it in the method find_next_pos."
   ]
  },
  {
   "cell_type": "markdown",
   "id": "ba71ae4b",
   "metadata": {},
   "source": [
    "### find_next_pos method\n",
    "\n",
    "This method takes a vertex (cell of the chessboard) and the solution list as an input and it determines the set of available next position from it, cells in which the knight has not passed yet (elements not in the solution list).\n",
    "With the same criterion as before, we want to choose the square from which the knight has the fewest available moves.\n",
    "To do this, the method simply do a difference between the set of all possible next positions (finding with the method adjacent_pos) and the set of cells are already covered (finding in the solution set). \n",
    "\n"
   ]
  },
  {
   "cell_type": "markdown",
   "id": "2923ce80",
   "metadata": {},
   "source": [
    "### solution method \n",
    "\n",
    "The solution method "
   ]
  },
  {
   "cell_type": "code",
   "execution_count": null,
   "id": "127e4098",
   "metadata": {},
   "outputs": [],
   "source": [
    "class AdjSetGraphU():\n",
    "\n",
    "    def __init__(self):\n",
    "        self._vertices = {}\n",
    "        \n",
    "    def vertices(self):\n",
    "        \"\"\" returns the vertices of a graph \"\"\"\n",
    "        return list(self._vertices.keys())\n",
    "\n",
    "    def edges(self):\n",
    "        \"\"\" returns the edges of a graph \"\"\"\n",
    "        _edges = set()\n",
    "        for n1 in self._vertices:\n",
    "            for n2 in self._vertices[n1]:\n",
    "                _edges.add((n1,n2))\n",
    "        return _edges\n",
    "    \n",
    "    \n",
    "    def insertVertex(self, v):\n",
    "        \"\"\" add a vertex \"\"\"\n",
    "        if v not in self._vertices:\n",
    "            self._vertices[v] = set()\n",
    "\n",
    "    def insertEdge(self, edge):\n",
    "        \"\"\" assumes that edge is of type tuple or list\n",
    "        \"\"\"\n",
    "        (v1, v2) = tuple(edge)\n",
    "        \n",
    "        self.insertVertex(v1)\n",
    "        self.insertVertex(v2)\n",
    "        self._vertices[v1].add(v2)\n",
    "        self._vertices[v2].add(v1)\n",
    "        \n",
    "    def incidentEdges(self, v):\n",
    "        incident_edges = set()\n",
    "        if v in self._vertices:\n",
    "            for v2 in self._vertices[v]:\n",
    "                incident_edges.add((v, v2))\n",
    "        return incident_edges\n",
    "    \n",
    "    def neighs(self, v):\n",
    "        if v in self._vertices:\n",
    "            return self._vertices[v]\n",
    "        return set()\n",
    "        \n",
    "    def areAdjacent(self, v1, v2):\n",
    "        if v1 not in self._vertices:\n",
    "            return False\n",
    "        return v2 in self._vertices[v1]\n",
    "    \n",
    "    \n",
    "    def removeVertex(self, v):\n",
    "        self._vertices.pop(v, None)\n",
    "        for n in graph._vertices:\n",
    "            graph._vertices[n].discard(v)        \n",
    "\n",
    "    def removeEdge(self, edge):\n",
    "        (v1, v2) = tuple(edge)\n",
    "        if v1 in self._vertices:\n",
    "            self._vertices[v1].discard(v2)\n",
    "        if v2 in self._vertices:\n",
    "            self._vertices[v2].discard(v1)\n",
    "    \n",
    "    \n",
    "    def BFS(self, s): \n",
    "  \n",
    "        # Mark all the vertices as not visited \n",
    "        visited = {}\n",
    "        for n in self._vertices:\n",
    "            visited[n] = False\n",
    "  \n",
    "        # Create a queue for BFS \n",
    "        queue = [] \n",
    "  \n",
    "        # Mark the source node as visited and enqueue it \n",
    "        queue.append(s) \n",
    "        visited[s] = True\n",
    "  \n",
    "        while queue: \n",
    "  \n",
    "            # Dequeue a vertex from queue and print it \n",
    "            s = queue.pop(0) \n",
    "            print (s, end = \" \") \n",
    "  \n",
    "            # Get all adjacent vertices of the dequeued vertex s. If a adjacent \n",
    "            # has not been visited, then mark it visited and enqueue it \n",
    "            for i in self.neighs(s): \n",
    "                if visited[i] == False: \n",
    "                    queue.append(i) \n",
    "                    visited[i] = True        \n",
    "                    \n",
    "                    \n",
    "    # A function used by DFS \n",
    "    def DFSUtil(self, v, visited): \n",
    "  \n",
    "        # Mark the current node as visited and print it \n",
    "        visited[v] = True\n",
    "        print(v, end = ' ') \n",
    "  \n",
    "        # Recur for all the vertices adjacent to this vertex \n",
    "        for i in self.neighs(v): \n",
    "            if visited[i] == False: \n",
    "                self.DFSUtil(i, visited) \n",
    "  \n",
    "\n",
    "    def DFS(self, s): \n",
    "  \n",
    "        # Mark all the vertices as not visited \n",
    "        visited = {}\n",
    "        for n in self._vertices:\n",
    "            visited[n] = False \n",
    "  \n",
    "        # Call the recursive helper function to print DFS traversal \n",
    "        self.DFSUtil(s, visited)\n",
    "        "
   ]
  },
  {
   "cell_type": "code",
   "execution_count": 108,
   "id": "51100b31",
   "metadata": {},
   "outputs": [],
   "source": [
    "legal_move_x = [2, 1, -1, -2, -2, -1, 1, 2]\n",
    "legal_move_y = [1, 2, 2, 1, -1, -2, -2, -1]\n",
    "\n",
    "import networkx as nx\n",
    "\n",
    "class Knight_Tour_Graph1:\n",
    "    \n",
    "    def __init__(self,N):\n",
    "        self.N = N\n",
    "        self.states = AdjSetGraphU()\n",
    "        \n",
    "        for x in range(1,N+1):\n",
    "            for y in range(1,N+1):\n",
    "                self.states.insertVertex((x,y))\n",
    "        \n",
    "        for n1 in self.states.vertices():\n",
    "            for n2 in self.states.vertices():\n",
    "                i = 0\n",
    "                while not self.states.areAdjacent(n1,n2) and i<8:\n",
    "                    if n2[0]-n1[0] == legal_move_x[i] and n2[1]-n1[1] == legal_move_y[i]:\n",
    "                        self.states.insertEdge((n1,n2))\n",
    "                    else:\n",
    "                        i += 1\n",
    "                        \n",
    "    def get_states(self):\n",
    "        return self.states\n",
    "    \n",
    "    def show_graph(self):\n",
    "        graph = nx.Graph()\n",
    "        graph.add_edges_from(self.get_states().edges())\n",
    "        color_map = ['#FFD700' for node in graph]\n",
    "        nx.draw(graph, with_labels = True, node_size=450, node_color=color_map)\n",
    "        \n",
    "    \n",
    "    # return a set of adjacent vertices of v \n",
    "    def adjacent_pos(self, v):\n",
    "        return self.states.neighs(v)\n",
    "    \n",
    "    ##############################   \n",
    "    \n",
    "    \n",
    "    def find_next_pos(self, current_pos, sol):\n",
    "        set_sol = set(sol)\n",
    "        least_degree = 8\n",
    "        next_pos = ()\n",
    "        \n",
    "        for v in self.adjacent_pos(current_pos).difference(set_sol):\n",
    "            if 0 < len(self.adjacent_pos(v).difference(set_sol)) <= least_degree:\n",
    "                least_degree = len(self.adjacent_pos(v).difference(set_sol))\n",
    "                next_pos = v\n",
    "            elif len(self.adjacent_pos(v).difference(set_sol)) == 0 and len(set_sol) == (self.N*self.N)-1:\n",
    "                next_pos = v\n",
    "        return next_pos    \n",
    "        \n",
    "    def solution(self, start_pos):\n",
    "        current_pos = start_pos\n",
    "        sol = []\n",
    "        sol.append(start_pos)\n",
    "        count = 1\n",
    "        \n",
    "        while count <= self.N*self.N:\n",
    "            count +=1\n",
    "            next_pos = self.find_next_pos(current_pos, sol)\n",
    "            if next_pos:\n",
    "                sol.append(next_pos)\n",
    "                current_pos = next_pos\n",
    "            else:\n",
    "                return sol\n",
    "\n",
    "            \n",
    "         \n",
    "    def show_solution(self, sol):\n",
    "        graph= nx.Graph()\n",
    "        for i in range(0,self.N*self.N-1):\n",
    "            graph.add_edge(sol[i], sol[i+1])\n",
    "        node_map = ['#FFD700' for node in graph]\n",
    "        nx.draw(graph, with_labels = True, node_size=450, node_color=node_map)\n",
    "        \n",
    "     \n",
    "        "
   ]
  },
  {
   "cell_type": "code",
   "execution_count": 109,
   "id": "aeab6ec8",
   "metadata": {},
   "outputs": [],
   "source": [
    "tour1 = Knight_Tour_Graph1(5) "
   ]
  },
  {
   "cell_type": "code",
   "execution_count": 110,
   "id": "dd99edec",
   "metadata": {},
   "outputs": [
    {
     "data": {
      "image/png": "[encoded data removed]",
      "text/plain": [
       "<Figure size 432x288 with 1 Axes>"
      ]
     },
     "metadata": {},
     "output_type": "display_data"
    }
   ],
   "source": [
    "tour1.show_graph() # utile per report, chiedere a stefano come ingrandire immagine "
   ]
  },
  {
   "cell_type": "code",
   "execution_count": 111,
   "id": "e11518a7",
   "metadata": {},
   "outputs": [],
   "source": [
    "# solution 1\n",
    "sol1 = tour1.solution((1,1))"
   ]
  },
  {
   "cell_type": "code",
   "execution_count": 116,
   "id": "f5f91b22",
   "metadata": {
    "scrolled": true
   },
   "outputs": [
    {
     "data": {
      "image/png": "[encoded data removed]",
      "text/plain": [
       "<Figure size 432x288 with 1 Axes>"
      ]
     },
     "metadata": {},
     "output_type": "display_data"
    }
   ],
   "source": [
    "tour1.show_solution(sol1)"
   ]
  },
  {
   "cell_type": "code",
   "execution_count": 115,
   "id": "58c58e42",
   "metadata": {},
   "outputs": [
    {
     "data": {
      "text/plain": [
       "25"
      ]
     },
     "execution_count": 115,
     "metadata": {},
     "output_type": "execute_result"
    }
   ],
   "source": [
    "len(tour1.solution((1,1)))"
   ]
  },
  {
   "cell_type": "markdown",
   "id": "b9d973d8",
   "metadata": {},
   "source": [
    "#### Backtracking solution 1"
   ]
  },
  {
   "cell_type": "markdown",
   "id": "6d37d16c",
   "metadata": {},
   "source": [
    "Backtracking is an algorithmic paradigm that tries different solutions until finds a solution that “works”.\n",
    "Our approach includes starting from a cell and then choosing a move from all the available moves. Then we check if this move will lead us to the solution or not. If not, we choose a different move. Also, we store all the steps in which we are moving in the chessboard that we created in the constructor. \n"
   ]
  },
  {
   "cell_type": "markdown",
   "id": "c57d7fb8",
   "metadata": {},
   "source": [
    "### valid_step method\n",
    "\n",
    "Firstly, we create this method to check if a move to a cell is valid or not. It returns True if the move is inside the chessboard (i.e. the coordinates of the cell are between 1 to n) and if the knight has not passed yet in that cell (i.e. the value of the cell is equal to 0).  \n"
   ]
  },
  {
   "cell_type": "markdown",
   "id": "0e7d5b8d",
   "metadata": {},
   "source": [
    "### backtracking method \n",
    "\n",
    "This method takes as input the current position of the knight (i.e. the cell where currently the knight is) and the step_count. If it is not specified, the step_count is set equal to None. \n",
    "Firstly, we have to check if the solution is found (step_count == n*n), then we will just return True.\n",
    "\n",
    "Otherwise, we set the next possible knight's move adding the step_count to the solution chessboard and then, recursively, we check if this will lead us to the solution. If not, we set back the cell of the board equal to zero and we select a different move (loop iterates to a different move), thus it is backtracking. If none of the moves are leading us to the solution, then we will return False.\n",
    "\n"
   ]
  },
  {
   "cell_type": "code",
   "execution_count": 21,
   "id": "b2f5bcea",
   "metadata": {},
   "outputs": [],
   "source": [
    "legal_move_x = [2, 1, -1, -2, -2, -1, 1, 2]\n",
    "legal_move_y = [1, 2, 2, 1, -1, -2, -2, -1]\n",
    "\n",
    "class Knight_Tour2:\n",
    "    \n",
    "    def __init__(self, n):\n",
    "        self.n = n\n",
    "        self.board = []\n",
    "        for i in range(n):\n",
    "            s = []\n",
    "            for j in range(n):\n",
    "                s.append(0)\n",
    "            self.board.append(s) \n",
    "    \n",
    "    def __str__(self):\n",
    "        print(\"Chessboard:\")\n",
    "        kt = []\n",
    "        for i in range(self.n):\n",
    "            row = self.board[i]\n",
    "            kt.append(\"\"+str(row)+\"\\n\")\n",
    "        return \"\".join(kt)\n",
    "    \n",
    "    ###################################\n",
    "    \n",
    "    def valid_step(self, current_pos):\n",
    "        row = current_pos[0] \n",
    "        col = current_pos[1]\n",
    "        if 0<row<=self.n and 0<col<=self.n:\n",
    "            if self.board[row-1][col-1]==0:\n",
    "                return True\n",
    "        return False\n",
    "    \n",
    "    def backtracking(self, current_pos, step_count = None):\n",
    "        if step_count == None:\n",
    "            step_count = 2\n",
    "            \n",
    "        if step_count == self.n*self.n+1 :\n",
    "            return True\n",
    "    \n",
    "        for i in range(0, 8):\n",
    "            next_pos_x = current_pos[0]+legal_move_x[i]\n",
    "            next_pos_y = current_pos[1]+legal_move_y[i]\n",
    "            if self.valid_step((next_pos_x, next_pos_y)):\n",
    "                self.board[next_pos_x-1][next_pos_y-1] = step_count\n",
    "                if self.backtracking((next_pos_x, next_pos_y), step_count+1):\n",
    "                    return True\n",
    "                self.board[next_pos_x-1][next_pos_y-1] = 0; # backtracking\n",
    "        return False\n",
    "    \n",
    "    def backtracking_solution(self, start_pos):\n",
    "        row = start_pos[0]\n",
    "        col = start_pos[1]\n",
    "        self.board[row-1][col-1] = 1 \n",
    "        if self.backtracking(start_pos):\n",
    "            return print(self)\n",
    "        return False\n",
    "\n"
   ]
  },
  {
   "cell_type": "code",
   "execution_count": 28,
   "id": "b7cfb260",
   "metadata": {},
   "outputs": [],
   "source": [
    "tour2 = Knight_Tour2(6)"
   ]
  },
  {
   "cell_type": "code",
   "execution_count": 29,
   "id": "de0e381e",
   "metadata": {},
   "outputs": [
    {
     "name": "stdout",
     "output_type": "stream",
     "text": [
      "Chessboard:\n",
      "[0, 0, 0, 0, 0, 0]\n",
      "[0, 0, 0, 0, 0, 0]\n",
      "[0, 0, 0, 0, 0, 0]\n",
      "[0, 0, 0, 0, 0, 0]\n",
      "[0, 0, 0, 0, 0, 0]\n",
      "[0, 0, 0, 0, 0, 0]\n",
      "\n"
     ]
    }
   ],
   "source": [
    "print(tour2)"
   ]
  },
  {
   "cell_type": "code",
   "execution_count": 30,
   "id": "46544482",
   "metadata": {},
   "outputs": [
    {
     "name": "stdout",
     "output_type": "stream",
     "text": [
      "Chessboard:\n",
      "[1, 16, 7, 26, 11, 14]\n",
      "[34, 25, 12, 15, 6, 27]\n",
      "[17, 2, 33, 8, 13, 10]\n",
      "[32, 35, 24, 21, 28, 5]\n",
      "[23, 18, 3, 30, 9, 20]\n",
      "[36, 31, 22, 19, 4, 29]\n",
      "\n"
     ]
    }
   ],
   "source": [
    "tour2.backtracking_solution((1,1)) "
   ]
  },
  {
   "cell_type": "markdown",
   "id": "d466b44f",
   "metadata": {},
   "source": [
    "#### Backtracking solution 2: implementation with Graphs"
   ]
  },
  {
   "cell_type": "code",
   "execution_count": 81,
   "id": "356f781c",
   "metadata": {},
   "outputs": [],
   "source": [
    "legal_move_x = [2, 1, -1, -2, -2, -1, 1, 2]\n",
    "legal_move_y = [1, 2, 2, 1, -1, -2, -2, -1]\n",
    "\n",
    "import networkx as nx\n",
    "\n",
    "class Knight_Tour_Graph2:\n",
    "    \n",
    "    def __init__(self,N):\n",
    "        self.N = N\n",
    "        self.states = AdjSetGraphU()\n",
    "        \n",
    "        for x in range(1,N+1):\n",
    "            for y in range(1,N+1):\n",
    "                self.states.insertVertex((x,y))\n",
    "        \n",
    "        for n1 in self.states.vertices():\n",
    "            for n2 in self.states.vertices():\n",
    "                i = 0\n",
    "                while not self.states.areAdjacent(n1,n2) and i<8:\n",
    "                    if n2[0]-n1[0] == legal_move_x[i] and n2[1]-n1[1] == legal_move_y[i]:\n",
    "                        self.states.insertEdge((n1,n2))\n",
    "                    else:\n",
    "                        i += 1\n",
    "                        \n",
    "    def get_states(self):\n",
    "        return self.states\n",
    "    \n",
    "    def show_graph(self):\n",
    "        graph = nx.Graph()\n",
    "        graph.add_edges_from(self.get_states().edges())\n",
    "        color_map = ['#FFD700' for node in graph]\n",
    "        nx.draw(graph, with_labels = True, node_size=450, node_color=color_map)\n",
    "    \n",
    "    \n",
    "    # return a set of adjacent vertices of v \n",
    "    def adjacent_pos(self, v):\n",
    "        return self.states.find_adjacent_vertex(v)\n",
    "    \n",
    "    ##############################   \n",
    "\n",
    "    \n",
    "    def solution(self, current_pos, sol):\n",
    "        set_sol = set(sol)\n",
    "        if len(set_sol) == self.N*self.N:\n",
    "            return True\n",
    "        \n",
    "        for v in self.adjacent_pos(current_pos).difference(set_sol):\n",
    "            sol.append(v)\n",
    "            if self.solution(v,sol):\n",
    "                return True\n",
    "            sol.pop()   \n",
    "        \n",
    "        return False   \n",
    "\n",
    "    \n",
    "    def backtracking_solution(self, start_pos):\n",
    "        sol = []\n",
    "        sol.append(start_pos)\n",
    "        if self.solution(start_pos, sol):\n",
    "            return sol\n",
    "        return False \n",
    "    \n",
    "    "
   ]
  },
  {
   "cell_type": "code",
   "execution_count": 82,
   "id": "80ec24f4",
   "metadata": {},
   "outputs": [],
   "source": [
    "tour3 = Knight_Tour_Graph2(7) \n",
    "# we can't do it with N=8, too long "
   ]
  },
  {
   "cell_type": "code",
   "execution_count": 83,
   "id": "df32e019",
   "metadata": {},
   "outputs": [
    {
     "data": {
      "text/plain": [
       "[(1, 1),\n",
       " (2, 3),\n",
       " (4, 4),\n",
       " (6, 5),\n",
       " (7, 7),\n",
       " (5, 6),\n",
       " (3, 7),\n",
       " (1, 6),\n",
       " (2, 4),\n",
       " (1, 2),\n",
       " (3, 1),\n",
       " (5, 2),\n",
       " (3, 3),\n",
       " (2, 1),\n",
       " (1, 3),\n",
       " (3, 2),\n",
       " (5, 3),\n",
       " (7, 4),\n",
       " (6, 6),\n",
       " (4, 5),\n",
       " (2, 6),\n",
       " (3, 4),\n",
       " (1, 5),\n",
       " (2, 7),\n",
       " (4, 6),\n",
       " (2, 5),\n",
       " (1, 7),\n",
       " (3, 6),\n",
       " (5, 7),\n",
       " (7, 6),\n",
       " (6, 4),\n",
       " (7, 2),\n",
       " (5, 1),\n",
       " (4, 3),\n",
       " (6, 2),\n",
       " (4, 1),\n",
       " (2, 2),\n",
       " (1, 4),\n",
       " (3, 5),\n",
       " (4, 7),\n",
       " (5, 5),\n",
       " (6, 7),\n",
       " (7, 5),\n",
       " (5, 4),\n",
       " (7, 3),\n",
       " (6, 1),\n",
       " (4, 2),\n",
       " (6, 3),\n",
       " (7, 1)]"
      ]
     },
     "execution_count": 83,
     "metadata": {},
     "output_type": "execute_result"
    }
   ],
   "source": [
    "tour3.backtracking_solution((1,1))"
   ]
  },
  {
   "cell_type": "code",
   "execution_count": 86,
   "id": "82c48941",
   "metadata": {},
   "outputs": [],
   "source": [
    "tour4 = Knight_Tour_Graph2(8)"
   ]
  },
  {
   "cell_type": "code",
   "execution_count": null,
   "id": "65ba4cd9",
   "metadata": {},
   "outputs": [],
   "source": []
  }
 ],
 "metadata": {
  "kernelspec": {
   "display_name": "Python 3 (ipykernel)",
   "language": "python",
   "name": "python3"
  },
  "language_info": {
   "codemirror_mode": {
    "name": "ipython",
    "version": 3
   },
   "file_extension": ".py",
   "mimetype": "text/x-python",
   "name": "python",
   "nbconvert_exporter": "python",
   "pygments_lexer": "ipython3",
   "version": "3.9.7"
  }
 },
 "nbformat": 4,
 "nbformat_minor": 5
}
